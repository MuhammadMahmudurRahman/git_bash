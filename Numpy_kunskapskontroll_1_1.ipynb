{
 "cells": [
  {
   "cell_type": "markdown",
   "id": "dacf74e6",
   "metadata": {},
   "source": [
    "# NumPy"
   ]
  },
  {
   "cell_type": "markdown",
   "id": "01b2bf34",
   "metadata": {},
   "source": [
    "Read the links: https://numpy.org/doc/stable/user/quickstart.html  and https://numpy.org/doc/stable/user/basics.broadcasting.html  before solving the exercises. "
   ]
  },
  {
   "cell_type": "code",
   "execution_count": 1,
   "id": "1f79e4a6",
   "metadata": {},
   "outputs": [],
   "source": [
    "import numpy as np"
   ]
  },
  {
   "cell_type": "markdown",
   "id": "7dae6889",
   "metadata": {},
   "source": [
    "### Print out the dimension (number of axes), shape, size and the datatype of the matrix A."
   ]
  },
  {
   "cell_type": "code",
   "execution_count": 51,
   "id": "7b3678cd",
   "metadata": {},
   "outputs": [
    {
     "name": "stdout",
     "output_type": "stream",
     "text": [
      "A: \n",
      " [[ 1  2  3  4  5]\n",
      " [ 6  7  8  9 10]\n",
      " [11 12 13 14 15]]\n"
     ]
    }
   ],
   "source": [
    "A = np.arange(1, 16).reshape(3,5)\n",
    "# I am printing the A matrix for my own understanding\n",
    "print('A:', '\\n', A) # Using '\\n' for creating a new line after A"
   ]
  },
  {
   "cell_type": "code",
   "execution_count": 3,
   "id": "31d39235",
   "metadata": {},
   "outputs": [
    {
     "name": "stdout",
     "output_type": "stream",
     "text": [
      "Dimension: 2\n"
     ]
    }
   ],
   "source": [
    "# Printing the dimension (number of axis)\n",
    "print('Dimension:', A.ndim)"
   ]
  },
  {
   "cell_type": "code",
   "execution_count": 4,
   "id": "bf5f1d77",
   "metadata": {},
   "outputs": [
    {
     "name": "stdout",
     "output_type": "stream",
     "text": [
      "Shape: (3, 5)\n"
     ]
    }
   ],
   "source": [
    "# Shape\n",
    "print('Shape:', A.shape)"
   ]
  },
  {
   "cell_type": "code",
   "execution_count": 5,
   "id": "acc80195",
   "metadata": {},
   "outputs": [
    {
     "name": "stdout",
     "output_type": "stream",
     "text": [
      "Size: 15\n"
     ]
    }
   ],
   "source": [
    "# Size\n",
    "print('Size:', A.size)"
   ]
  },
  {
   "cell_type": "code",
   "execution_count": 6,
   "id": "49f63e61",
   "metadata": {},
   "outputs": [
    {
     "name": "stdout",
     "output_type": "stream",
     "text": [
      "Type: int32\n"
     ]
    }
   ],
   "source": [
    "# Type\n",
    "print('Type:', A.dtype)"
   ]
  },
  {
   "cell_type": "code",
   "execution_count": 7,
   "id": "7f2c5fcd",
   "metadata": {},
   "outputs": [
    {
     "name": "stdout",
     "output_type": "stream",
     "text": [
      "Second row: [ 6  7  8  9 10]\n"
     ]
    }
   ],
   "source": [
    "# (Just printing it for my understanding) printing a specific row\n",
    "print('Second row:', A[1])"
   ]
  },
  {
   "cell_type": "markdown",
   "id": "e56d2a96",
   "metadata": {},
   "source": [
    "### Do the following computations on the matrices B and C: \n",
    "* Elementwise subtraction. \n",
    "* Elementwise multiplication. \n",
    "* Matrix multiplication (by default you should use the @ operator)."
   ]
  },
  {
   "cell_type": "code",
   "execution_count": 12,
   "id": "a7053fbb",
   "metadata": {},
   "outputs": [
    {
     "name": "stdout",
     "output_type": "stream",
     "text": [
      "B: \n",
      " [[1 2 3]\n",
      " [4 5 6]\n",
      " [7 8 9]]\n",
      "\n",
      "C: \n",
      " [[2. 2. 2.]\n",
      " [2. 2. 2.]\n",
      " [2. 2. 2.]]\n"
     ]
    }
   ],
   "source": [
    "B = np.arange(1, 10).reshape(3, 3)\n",
    "C = np.ones((3, 3))*2\n",
    "\n",
    "print('B:', '\\n', B)\n",
    "print()  # to give space between B and C\n",
    "\n",
    "print('C:', '\\n', C)"
   ]
  },
  {
   "cell_type": "code",
   "execution_count": 103,
   "id": "3cd794ae",
   "metadata": {},
   "outputs": [
    {
     "name": "stdout",
     "output_type": "stream",
     "text": [
      "B-C: \n",
      " [[-2 -2]\n",
      " [ 1  1]]\n"
     ]
    }
   ],
   "source": [
    "# Elementwise subtraction\n",
    "print('B-C:', '\\n',B-C)"
   ]
  },
  {
   "cell_type": "code",
   "execution_count": 106,
   "id": "e091153d",
   "metadata": {},
   "outputs": [
    {
     "name": "stdout",
     "output_type": "stream",
     "text": [
      "B*C: \n",
      " [[8 3]\n",
      " [0 6]]\n"
     ]
    }
   ],
   "source": [
    "# Elemetwise multiplication (elementwise multiplication and matrcies multiplication is not the same thing. When each element of the two Matrices is multiplied, that is elementwise multiplication.\n",
    "print('B*C:', '\\n', B*C)"
   ]
  },
  {
   "cell_type": "code",
   "execution_count": 110,
   "id": "130104e2",
   "metadata": {},
   "outputs": [
    {
     "name": "stdout",
     "output_type": "stream",
     "text": [
      "B@C: \n",
      " [[8 8]\n",
      " [4 9]]\n"
     ]
    }
   ],
   "source": [
    "# Matrcies multiplication (this multiplication is the multiplication that we learned from the book Matrix Algebra for Engineers)\n",
    "print('B@C:', '\\n', B@C)"
   ]
  },
  {
   "cell_type": "markdown",
   "id": "96030d53",
   "metadata": {},
   "source": [
    "### Do the following calculations on the matrix:\n",
    "* Exponentiate each number elementwise (use the np.exp function).\n",
    "\n",
    "* Calculate the minimum value in the whole matrix. \n",
    "* Calculcate the minimum value in each row. \n",
    "* Calculcate the minimum value in each column. \n",
    "\n",
    "\n",
    "* Find the index value for the minimum value in the whole matrix (hint: use np.argmin).\n",
    "* Find the index value for the minimum value in each row (hint: use np.argmin).\n",
    "\n",
    "\n",
    "* Calculate the sum for all elements.\n",
    "* Calculate the mean for each column. \n",
    "* Calculate the median for each column. "
   ]
  },
  {
   "cell_type": "code",
   "execution_count": 112,
   "id": "f8a9166b",
   "metadata": {},
   "outputs": [
    {
     "name": "stdout",
     "output_type": "stream",
     "text": [
      "B: \n",
      " [[1 2 3]\n",
      " [4 5 6]\n",
      " [7 8 9]]\n",
      "\n",
      "Dimension: 2\n"
     ]
    }
   ],
   "source": [
    "B = np.arange(1, 10).reshape(3, 3)\n",
    "\n",
    "print('B:', '\\n',B)\n",
    "print()\n",
    "\n",
    "print('Dimension:', B.ndim) # Printing dimension for my own understanding"
   ]
  },
  {
   "cell_type": "code",
   "execution_count": 118,
   "id": "f03f24f7",
   "metadata": {},
   "outputs": [
    {
     "name": "stdout",
     "output_type": "stream",
     "text": [
      "[[2.71828183e+00 7.38905610e+00 2.00855369e+01]\n",
      " [5.45981500e+01 1.48413159e+02 4.03428793e+02]\n",
      " [1.09663316e+03 2.98095799e+03 8.10308393e+03]]\n"
     ]
    }
   ],
   "source": [
    "# Exponentiate each number elementwise\n",
    "E=np.exp(B)\n",
    "print(E)"
   ]
  },
  {
   "cell_type": "code",
   "execution_count": 116,
   "id": "f614377b",
   "metadata": {},
   "outputs": [
    {
     "name": "stdout",
     "output_type": "stream",
     "text": [
      "Minimum value of B: 1\n"
     ]
    }
   ],
   "source": [
    "# Calculate the minimum value in the whole matrix.\n",
    "print('Minimum value of B:', np.min(B))"
   ]
  },
  {
   "cell_type": "code",
   "execution_count": 117,
   "id": "6002279c",
   "metadata": {},
   "outputs": [
    {
     "name": "stdout",
     "output_type": "stream",
     "text": [
      "Maximum value of B: 9\n"
     ]
    }
   ],
   "source": [
    "# (I am doing it out of my own interest) Calculate the maximum value in the whole matrix. \n",
    "print('Maximum value of B:', np.max(B))"
   ]
  },
  {
   "cell_type": "code",
   "execution_count": 20,
   "id": "c1fba886",
   "metadata": {},
   "outputs": [
    {
     "name": "stdout",
     "output_type": "stream",
     "text": [
      "Minimum value in each row: [1 2 3]\n"
     ]
    }
   ],
   "source": [
    "# Calculcate the minimum value in each row considering that axis=0 for row number 1 and continue afterwards\n",
    "print('Minimum value in each row:', np.min(B, axis=0))"
   ]
  },
  {
   "cell_type": "code",
   "execution_count": 21,
   "id": "ff1d6f87",
   "metadata": {},
   "outputs": [
    {
     "name": "stdout",
     "output_type": "stream",
     "text": [
      "Maximum value in each row: [7 8 9]\n"
     ]
    }
   ],
   "source": [
    "# Just checking myself to see the maximum values in each row\n",
    "print('Maximum value in each row:', np.max(B, axis=0))"
   ]
  },
  {
   "cell_type": "code",
   "execution_count": 22,
   "id": "933ba3bb",
   "metadata": {
    "scrolled": true
   },
   "outputs": [
    {
     "name": "stdout",
     "output_type": "stream",
     "text": [
      "Minimum value in each column: [1 4 7]\n"
     ]
    }
   ],
   "source": [
    "# Calculcate the minimum value in each column considering that axis=1 for coulmn number 1 and continue afterwards\n",
    "print('Minimum value in each column:', np.min(B, axis=1))"
   ]
  },
  {
   "cell_type": "code",
   "execution_count": 23,
   "id": "45c23f73",
   "metadata": {},
   "outputs": [
    {
     "name": "stdout",
     "output_type": "stream",
     "text": [
      "Maximum value in each column: [3 6 9]\n"
     ]
    }
   ],
   "source": [
    "# Just checking myself to see the maximum values in each column\n",
    "print('Maximum value in each column:', np.max(B, axis=1))"
   ]
  },
  {
   "cell_type": "code",
   "execution_count": 119,
   "id": "81e39369",
   "metadata": {},
   "outputs": [
    {
     "name": "stdout",
     "output_type": "stream",
     "text": [
      "Index value for the minimum value in B: 0\n"
     ]
    }
   ],
   "source": [
    "# Find the index value for the minimum value in the whole matrix (hint: use np.argmin).\n",
    "# It will show us the postion of row and column in the matrix\n",
    "print('Index value for the minimum value in B:', np.argmin(B))"
   ]
  },
  {
   "cell_type": "code",
   "execution_count": 25,
   "id": "6dae6540",
   "metadata": {},
   "outputs": [
    {
     "name": "stdout",
     "output_type": "stream",
     "text": [
      "Index value for the minimum value in each row: [0 0 0]\n"
     ]
    }
   ],
   "source": [
    "# Find the index value for the minimum value in each row (hint: use np.argmin).\n",
    "print('Index value for the minimum value in each row:', np.argmin(B, axis = 1))"
   ]
  },
  {
   "cell_type": "code",
   "execution_count": 26,
   "id": "10158146",
   "metadata": {},
   "outputs": [
    {
     "name": "stdout",
     "output_type": "stream",
     "text": [
      "Index value for the minimum value in each column: [0 0 0]\n"
     ]
    }
   ],
   "source": [
    "# Want to check myself for the minimum value in each column\n",
    "print('Index value for the minimum value in each column:',np.argmin(B, axis = 1))"
   ]
  },
  {
   "cell_type": "code",
   "execution_count": 120,
   "id": "c0430fe2",
   "metadata": {},
   "outputs": [
    {
     "name": "stdout",
     "output_type": "stream",
     "text": [
      "Sum the all elements in B: 45\n"
     ]
    }
   ],
   "source": [
    "# Calculate the sum for all elements\n",
    "print('Sum the all elements in B:', np.sum(B))"
   ]
  },
  {
   "cell_type": "code",
   "execution_count": 28,
   "id": "82481cbb",
   "metadata": {},
   "outputs": [
    {
     "name": "stdout",
     "output_type": "stream",
     "text": [
      "Mean for each column: [2. 5. 8.]\n"
     ]
    }
   ],
   "source": [
    "# Calculate the mean for each column\n",
    "print('Mean for each column:', np.mean(B, axis = 1))"
   ]
  },
  {
   "cell_type": "code",
   "execution_count": 29,
   "id": "49250666",
   "metadata": {},
   "outputs": [
    {
     "name": "stdout",
     "output_type": "stream",
     "text": [
      "Mean for each row: [4. 5. 6.]\n"
     ]
    }
   ],
   "source": [
    "# Checking myself the mean for each row\n",
    "print('Mean for each row:', np.mean(B, axis = 0))"
   ]
  },
  {
   "cell_type": "code",
   "execution_count": 30,
   "id": "f58a5f3c",
   "metadata": {},
   "outputs": [
    {
     "name": "stdout",
     "output_type": "stream",
     "text": [
      "Median for each column: [2. 5. 8.]\n"
     ]
    }
   ],
   "source": [
    "# Calculate the median for each column\n",
    "print('Median for each column:', np.median(B, axis = 1))"
   ]
  },
  {
   "cell_type": "code",
   "execution_count": 31,
   "id": "5903e284",
   "metadata": {},
   "outputs": [
    {
     "name": "stdout",
     "output_type": "stream",
     "text": [
      "Median for each row: [4. 5. 6.]\n"
     ]
    }
   ],
   "source": [
    "# Checking myself the median for each row\n",
    "print('Median for each row:', np.median(B, axis = 0))"
   ]
  },
  {
   "cell_type": "markdown",
   "id": "541eb7ba",
   "metadata": {},
   "source": [
    "### What does it mean when you provide fewer indices than axes when slicing? See example below."
   ]
  },
  {
   "cell_type": "markdown",
   "id": "6c53541b",
   "metadata": {},
   "source": [
    "**Answer:**"
   ]
  },
  {
   "cell_type": "code",
   "execution_count": 121,
   "id": "de01e120",
   "metadata": {
    "scrolled": false
   },
   "outputs": [
    {
     "name": "stdout",
     "output_type": "stream",
     "text": [
      "A: \n",
      " [[ 1  2  3  4  5]\n",
      " [ 6  7  8  9 10]\n",
      " [11 12 13 14 15]]\n"
     ]
    }
   ],
   "source": [
    "A = np.arange(1, 16).reshape(3,5)\n",
    "\n",
    "print('A:', '\\n', A)"
   ]
  },
  {
   "cell_type": "code",
   "execution_count": 123,
   "id": "34c6264c",
   "metadata": {},
   "outputs": [
    {
     "name": "stdout",
     "output_type": "stream",
     "text": [
      "First row of A: [1 2 3 4 5]\n",
      "\n",
      "Second row of A: [ 6  7  8  9 10]\n",
      "\n",
      "Third row of A: [11 12 13 14 15]\n"
     ]
    }
   ],
   "source": [
    "# To find a specific row in a matrix\n",
    "\n",
    "print('First row of A:', A[0])\n",
    "print()\n",
    "\n",
    "print('Second row of A:', A[1])\n",
    "print()\n",
    "\n",
    "print('Third row of A:', A[2])"
   ]
  },
  {
   "cell_type": "markdown",
   "id": "504e894a",
   "metadata": {},
   "source": [
    "Answer: \n",
    "\n",
    "When slicing with fewer indices than there are axes, the missing indices are assumed full slices or complete slices, which means including all the elements along those dimensions. "
   ]
  },
  {
   "cell_type": "code",
   "execution_count": 124,
   "id": "75737fc1",
   "metadata": {},
   "outputs": [
    {
     "name": "stdout",
     "output_type": "stream",
     "text": [
      "First two rows of A: \n",
      " [[ 1  2  3  4  5]\n",
      " [ 6  7  8  9 10]]\n"
     ]
    }
   ],
   "source": [
    "# In the above matrix, A[:2] slices the array along the first axis (towards the rows) with a start index of 0 and an end index of 2.\n",
    "print('First two rows of A:', '\\n', A[:2])"
   ]
  },
  {
   "cell_type": "markdown",
   "id": "32434740",
   "metadata": {},
   "source": [
    "### Iterating over multidimensional arrays is done with respect to the first axis, so in the example below we iterate trough the rows. If you would like to iterate through the array *elementwise*, how would you do that?"
   ]
  },
  {
   "cell_type": "code",
   "execution_count": 31,
   "id": "9459864f",
   "metadata": {},
   "outputs": [
    {
     "data": {
      "text/plain": [
       "array([[ 1,  2,  3,  4,  5],\n",
       "       [ 6,  7,  8,  9, 10],\n",
       "       [11, 12, 13, 14, 15]])"
      ]
     },
     "execution_count": 31,
     "metadata": {},
     "output_type": "execute_result"
    }
   ],
   "source": [
    "A"
   ]
  },
  {
   "cell_type": "code",
   "execution_count": 32,
   "id": "a671bb5a",
   "metadata": {},
   "outputs": [
    {
     "name": "stdout",
     "output_type": "stream",
     "text": [
      "[1 2 3 4 5]\n",
      "[ 6  7  8  9 10]\n",
      "[11 12 13 14 15]\n"
     ]
    }
   ],
   "source": [
    "# Finding iterating through rows considering that row is the first axis and the result will show the elements wihtout commas\n",
    "for i in A:\n",
    "    print(i)"
   ]
  },
  {
   "cell_type": "code",
   "execution_count": 40,
   "id": "f4e443a0",
   "metadata": {
    "scrolled": true
   },
   "outputs": [
    {
     "name": "stdout",
     "output_type": "stream",
     "text": [
      "1\n",
      "2\n",
      "3\n",
      "4\n",
      "5\n",
      "6\n",
      "7\n",
      "8\n",
      "9\n",
      "10\n",
      "11\n",
      "12\n",
      "13\n",
      "14\n",
      "15\n"
     ]
    }
   ],
   "source": [
    "for i in A.ravel(): # using ravel method to iterate the array elementwise\n",
    "    print(i)"
   ]
  },
  {
   "cell_type": "code",
   "execution_count": 41,
   "id": "d8fa2790",
   "metadata": {},
   "outputs": [
    {
     "name": "stdout",
     "output_type": "stream",
     "text": [
      "1\n",
      "2\n",
      "3\n",
      "4\n",
      "5\n",
      "6\n",
      "7\n",
      "8\n",
      "9\n",
      "10\n",
      "11\n",
      "12\n",
      "13\n",
      "14\n",
      "15\n"
     ]
    }
   ],
   "source": [
    "for i in A.flatten(): #using flatten method to iterate the array elementwise\n",
    "    print(i)"
   ]
  },
  {
   "cell_type": "markdown",
   "id": "608a2583",
   "metadata": {},
   "source": [
    "### Explain what the code below does. More specifically, b has three axes - what does this mean? "
   ]
  },
  {
   "cell_type": "markdown",
   "id": "71f1e01e",
   "metadata": {},
   "source": [
    "Answer: \n",
    "\n",
    "If the b matrices has 3 rows which means it has 3 axes 0,1 and 2 respectively considering that it has suitable numbers of columns."
   ]
  },
  {
   "cell_type": "code",
   "execution_count": 50,
   "id": "f8f9b26f",
   "metadata": {},
   "outputs": [
    {
     "name": "stdout",
     "output_type": "stream",
     "text": [
      "a: \n",
      " [ 0  1  2  3  4  5  6  7  8  9 10 11 12 13 14 15 16 17 18 19 20 21 22 23\n",
      " 24 25 26 27 28 29]\n",
      "\n",
      "B: \n",
      " [[[ 0  1  2  3  4]\n",
      "  [ 5  6  7  8  9]\n",
      "  [10 11 12 13 14]]\n",
      "\n",
      " [[15 16 17 18 19]\n",
      "  [20 21 22 23 24]\n",
      "  [25 26 27 28 29]]]\n"
     ]
    }
   ],
   "source": [
    "a = np.arange(30) # it means we want to create 1 dimensional matrix from 0-29\n",
    "b = a.reshape((2, 3, -1)) # it means we want to create 3 dimensional matrices from 0-29\n",
    "\n",
    "print('a:', '\\n', a)\n",
    "print() # making spaces in the result between two matrices\n",
    "\n",
    "print('B:','\\n',b)  "
   ]
  },
  {
   "cell_type": "markdown",
   "id": "ab5933d5",
   "metadata": {},
   "source": [
    "### Broadcasting\n",
    "**Read the following link about broadcasting: https://numpy.org/doc/stable/user/basics.broadcasting.html#basics-broadcasting**"
   ]
  },
  {
   "cell_type": "markdown",
   "id": "039805ba",
   "metadata": {},
   "source": [
    "# Remark on Broadcasting when doing Linear Algebra calculations in Python. "
   ]
  },
  {
   "cell_type": "markdown",
   "id": "c4bcc147",
   "metadata": {},
   "source": [
    "### From the mathematical rules of matrix addition, the operation below (m1 + m2) does not make sense. The reason is that matrix addition requires two matrices of the same size. In Python however, it works due to broadcasting rules in NumPy. So you must be careful when doing Linear Algebra calculations in Python since they do not follow the \"mathematical rules\". This can however easily be handled by doing some simple programming, for example validating that two matrices have the same shape is easy if you for instance want to add two matrices. "
   ]
  },
  {
   "cell_type": "markdown",
   "id": "047d6576",
   "metadata": {},
   "source": [
    "### The example below would also not be allowed if following the \"mathematical rules\" in Linear Algebra. But it works due to broadcasting in NumPy. "
   ]
  },
  {
   "cell_type": "code",
   "execution_count": 49,
   "id": "77554c86",
   "metadata": {
    "scrolled": true
   },
   "outputs": [
    {
     "name": "stdout",
     "output_type": "stream",
     "text": [
      "Shape of m1: (2, 2)\n",
      "\n",
      "Shape of m2: (2,)\n",
      "\n",
      "m1+m2: \n",
      " [[2 3]\n",
      " [4 5]]\n"
     ]
    }
   ],
   "source": [
    "m1 = np.array([[1, 2], [3, 4]])\n",
    "m2 = np.array([1, 1])\n",
    "\n",
    "# We can check the shapes of the matrices m1 and m2 first\n",
    "print('Shape of m1:', m1.shape)\n",
    "print()\n",
    "\n",
    "print('Shape of m2:', m2.shape)\n",
    "print()\n",
    "\n",
    "print('m1+m2:', '\\n', m1+m2) #This is not possilbe in mathematical rules in Linear Algebra but poosible in Numpy by broadcasting"
   ]
  },
  {
   "cell_type": "code",
   "execution_count": 125,
   "id": "5e6ef2e4",
   "metadata": {},
   "outputs": [
    {
     "name": "stdout",
     "output_type": "stream",
     "text": [
      "v1+1: [2 3 4]\n"
     ]
    }
   ],
   "source": [
    "v1 = np.array([1, 2, 3])\n",
    "\n",
    "print('v1+1:', v1 + 1)"
   ]
  },
  {
   "cell_type": "code",
   "execution_count": 126,
   "id": "e2cbae26",
   "metadata": {},
   "outputs": [
    {
     "name": "stdout",
     "output_type": "stream",
     "text": [
      "A: \n",
      " [[1 2]\n",
      " [3 4]]\n",
      "\n",
      "b: \n",
      " [2 2]\n",
      "\n",
      "A+b: \n",
      " [[3 4]\n",
      " [5 6]]\n"
     ]
    }
   ],
   "source": [
    "A = np.arange(1, 5).reshape(2,2)\n",
    "print('A:', '\\n', A)\n",
    "print()\n",
    "\n",
    "b = np.array([2, 2])\n",
    "print('b:', '\\n', b)\n",
    "print()\n",
    "\n",
    "print('A+b:', '\\n', A+b) # b matrix has 1 row which is added to the each rows of A matrix (2 rows) respectively"
   ]
  },
  {
   "cell_type": "markdown",
   "id": "722fd5cd",
   "metadata": {},
   "source": [
    "# Linear Algebra Exercises"
   ]
  },
  {
   "cell_type": "markdown",
   "id": "b8935099",
   "metadata": {},
   "source": [
    "The exercies are taken from the \"Matrix Algebra for Engineers\" by Chasnov: https://www.math.hkust.edu.hk/~machas/matrix-algebra-for-engineers.pdf .\n",
    "\n",
    "Do the following exercises: \n",
    "* Chapter 2, exercise 1-3.\n",
    "* Quiz on p.11, exercise 2. \n",
    "* Chapter 6, exercise 1. \n",
    "* Quiz on p.19, exercise 3. \n",
    "\n",
    "\n",
    "* Chapter 10, exercise 1. \n",
    "* Chapter 12 exercise 1. \n"
   ]
  },
  {
   "cell_type": "code",
   "execution_count": 127,
   "id": "a452a77a",
   "metadata": {},
   "outputs": [
    {
     "name": "stdout",
     "output_type": "stream",
     "text": [
      "A: \n",
      " [[ 2  1 -1]\n",
      " [ 1 -1  1]]\n",
      "\n",
      "B: \n",
      " [[ 4 -2  1]\n",
      " [ 2 -4 -2]]\n",
      "\n",
      "C: \n",
      " [[1 2]\n",
      " [2 1]]\n",
      "\n",
      "D: \n",
      " [[3 4]\n",
      " [4 3]]\n",
      "\n",
      "E: \n",
      " [[1]\n",
      " [2]]\n"
     ]
    }
   ],
   "source": [
    "A = np.array([[2, 1, -1], [1, -1, 1]])\n",
    "\n",
    "B = np.array([[4, -2, 1], [2, -4, -2]])\n",
    "\n",
    "C = np.array([[1, 2], [2, 1]])\n",
    "\n",
    "D = np.array([[3, 4], [4, 3]])\n",
    "\n",
    "E = np.array([[1], [2]])\n",
    "\n",
    "print('A:', '\\n', A)\n",
    "print()\n",
    "\n",
    "print('B:', '\\n', B)\n",
    "print()\n",
    "\n",
    "print('C:', '\\n', C)\n",
    "print()\n",
    "\n",
    "print('D:', '\\n', D)\n",
    "print()\n",
    "\n",
    "print('E:', '\\n', E)"
   ]
  },
  {
   "cell_type": "markdown",
   "id": "9d8366cc",
   "metadata": {},
   "source": [
    "**Chap2. Question 1.**\n",
    "\n",
    "**Write a function \"add_mult_matrices\" that takes two matrices as input arguments (validate that the input are of the type numpy.ndarray by using the isinstance function), a third argument that is either 'add' or 'multiply' that specifies if you want to add or multiply the matrices (validate that the third argument is either 'add' or 'multiply'). When doing matrix addition, validate that the matrices have the same size. When doing matrix multiplication, validate that the sizes conform (i.e. number of columns in the first matrix is equal to the number of rows in the second matrix).**\n",
    "\n",
    "In this exercise, create a function that takes two matrices as input and either adds or multiplies them by specifying a argument as either 'add' or 'multiply'. Validate that both matrices taken as input are of the type ndarray (use the isinstance function)."
   ]
  },
  {
   "cell_type": "code",
   "execution_count": 60,
   "id": "535ee48c",
   "metadata": {},
   "outputs": [],
   "source": [
    "# Writing the function \"add_mult_matrices\":\n",
    "\n",
    "def add_mult_matrices(A, B, add_or_multiply):\n",
    "    \n",
    "    if not (isinstance(A, np.ndarray) and isinstance(B, np.ndarray)):\n",
    "        raise Exception('Please provide two matrices.')\n",
    "    \n",
    "    if add_or_multiply == 'add':\n",
    "        if not A.shape == B.shape:\n",
    "            raise ValueError('Same shape required for matrix addition.')\n",
    "        else: \n",
    "            return A + B\n",
    "        \n",
    "    elif add_or_multiply == 'multiply':\n",
    "        if not A.shape[1] == B.shape[0]:\n",
    "            raise ValueError('Columns and rows must be the shame length in matrix multiplication.')\n",
    "        else:\n",
    "            return A @ B\n",
    "        \n",
    "    else:\n",
    "        raise Exception('the add_or_multiply argument must be \"add\" or \"multiply\". ')"
   ]
  },
  {
   "cell_type": "code",
   "execution_count": 61,
   "id": "44dab740",
   "metadata": {},
   "outputs": [
    {
     "name": "stdout",
     "output_type": "stream",
     "text": [
      "B-2A: \n",
      " [[ 0 -4  3]\n",
      " [ 0 -2 -4]]\n"
     ]
    }
   ],
   "source": [
    "# Find B-2A which meets the condtions of above function\n",
    "print('B-2A:', '\\n', add_mult_matrices(B, -2*A, 'add'))"
   ]
  },
  {
   "cell_type": "code",
   "execution_count": 63,
   "id": "668b1323",
   "metadata": {},
   "outputs": [
    {
     "ename": "ValueError",
     "evalue": "Same shape required for matrix addition.",
     "output_type": "error",
     "traceback": [
      "\u001b[1;31m---------------------------------------------------------------------------\u001b[0m",
      "\u001b[1;31mValueError\u001b[0m                                Traceback (most recent call last)",
      "Cell \u001b[1;32mIn[63], line 2\u001b[0m\n\u001b[0;32m      1\u001b[0m \u001b[38;5;66;03m# Find 3C-E  which is not valid due to the conditions of above function\u001b[39;00m\n\u001b[1;32m----> 2\u001b[0m \u001b[38;5;28mprint\u001b[39m(\u001b[38;5;124m'\u001b[39m\u001b[38;5;124m3C-E:\u001b[39m\u001b[38;5;124m'\u001b[39m, \u001b[38;5;124m'\u001b[39m\u001b[38;5;130;01m\\n\u001b[39;00m\u001b[38;5;124m'\u001b[39m, add_mult_matrices(\u001b[38;5;241m3\u001b[39m\u001b[38;5;241m*\u001b[39mC, \u001b[38;5;241m-\u001b[39mE, \u001b[38;5;124m'\u001b[39m\u001b[38;5;124madd\u001b[39m\u001b[38;5;124m'\u001b[39m))\n",
      "Cell \u001b[1;32mIn[60], line 10\u001b[0m, in \u001b[0;36madd_mult_matrices\u001b[1;34m(A, B, add_or_multiply)\u001b[0m\n\u001b[0;32m      8\u001b[0m \u001b[38;5;28;01mif\u001b[39;00m add_or_multiply \u001b[38;5;241m==\u001b[39m \u001b[38;5;124m'\u001b[39m\u001b[38;5;124madd\u001b[39m\u001b[38;5;124m'\u001b[39m:\n\u001b[0;32m      9\u001b[0m     \u001b[38;5;28;01mif\u001b[39;00m \u001b[38;5;129;01mnot\u001b[39;00m A\u001b[38;5;241m.\u001b[39mshape \u001b[38;5;241m==\u001b[39m B\u001b[38;5;241m.\u001b[39mshape:\n\u001b[1;32m---> 10\u001b[0m         \u001b[38;5;28;01mraise\u001b[39;00m \u001b[38;5;167;01mValueError\u001b[39;00m(\u001b[38;5;124m'\u001b[39m\u001b[38;5;124mSame shape required for matrix addition.\u001b[39m\u001b[38;5;124m'\u001b[39m)\n\u001b[0;32m     11\u001b[0m     \u001b[38;5;28;01melse\u001b[39;00m: \n\u001b[0;32m     12\u001b[0m         \u001b[38;5;28;01mreturn\u001b[39;00m A \u001b[38;5;241m+\u001b[39m B\n",
      "\u001b[1;31mValueError\u001b[0m: Same shape required for matrix addition."
     ]
    }
   ],
   "source": [
    "# Find 3C-E  which is not valid due to the conditions of above function\n",
    "print('3C-E:', '\\n', add_mult_matrices(3*C, -E, 'add'))"
   ]
  },
  {
   "cell_type": "code",
   "execution_count": 64,
   "id": "9d0f5cfb",
   "metadata": {},
   "outputs": [
    {
     "ename": "ValueError",
     "evalue": "Columns and rows must be the shame length in matrix multiplication.",
     "output_type": "error",
     "traceback": [
      "\u001b[1;31m---------------------------------------------------------------------------\u001b[0m",
      "\u001b[1;31mValueError\u001b[0m                                Traceback (most recent call last)",
      "Cell \u001b[1;32mIn[64], line 2\u001b[0m\n\u001b[0;32m      1\u001b[0m \u001b[38;5;66;03m# Find AC which is not valid due to the conditions of above function\u001b[39;00m\n\u001b[1;32m----> 2\u001b[0m \u001b[38;5;28mprint\u001b[39m(\u001b[38;5;124m'\u001b[39m\u001b[38;5;124mAC:\u001b[39m\u001b[38;5;124m'\u001b[39m, \u001b[38;5;124m'\u001b[39m\u001b[38;5;130;01m\\n\u001b[39;00m\u001b[38;5;124m'\u001b[39m, add_mult_matrices(A, C, \u001b[38;5;124m'\u001b[39m\u001b[38;5;124mmultiply\u001b[39m\u001b[38;5;124m'\u001b[39m))\n",
      "Cell \u001b[1;32mIn[60], line 16\u001b[0m, in \u001b[0;36madd_mult_matrices\u001b[1;34m(A, B, add_or_multiply)\u001b[0m\n\u001b[0;32m     14\u001b[0m \u001b[38;5;28;01melif\u001b[39;00m add_or_multiply \u001b[38;5;241m==\u001b[39m \u001b[38;5;124m'\u001b[39m\u001b[38;5;124mmultiply\u001b[39m\u001b[38;5;124m'\u001b[39m:\n\u001b[0;32m     15\u001b[0m     \u001b[38;5;28;01mif\u001b[39;00m \u001b[38;5;129;01mnot\u001b[39;00m A\u001b[38;5;241m.\u001b[39mshape[\u001b[38;5;241m1\u001b[39m] \u001b[38;5;241m==\u001b[39m B\u001b[38;5;241m.\u001b[39mshape[\u001b[38;5;241m0\u001b[39m]:\n\u001b[1;32m---> 16\u001b[0m         \u001b[38;5;28;01mraise\u001b[39;00m \u001b[38;5;167;01mValueError\u001b[39;00m(\u001b[38;5;124m'\u001b[39m\u001b[38;5;124mColumns and rows must be the shame length in matrix multiplication.\u001b[39m\u001b[38;5;124m'\u001b[39m)\n\u001b[0;32m     17\u001b[0m     \u001b[38;5;28;01melse\u001b[39;00m:\n\u001b[0;32m     18\u001b[0m         \u001b[38;5;28;01mreturn\u001b[39;00m A \u001b[38;5;241m@\u001b[39m B\n",
      "\u001b[1;31mValueError\u001b[0m: Columns and rows must be the shame length in matrix multiplication."
     ]
    }
   ],
   "source": [
    "# Find AC which is not valid due to the conditions of above function\n",
    "print('AC:', '\\n', add_mult_matrices(A, C, 'multiply'))"
   ]
  },
  {
   "cell_type": "code",
   "execution_count": 65,
   "id": "c2929654",
   "metadata": {},
   "outputs": [
    {
     "name": "stdout",
     "output_type": "stream",
     "text": [
      "CD: \n",
      " [[11 10]\n",
      " [10 11]]\n"
     ]
    }
   ],
   "source": [
    "# Find CD which meets the condtions of above function\n",
    "print('CD:', '\\n', add_mult_matrices(C, D, 'multiply'))"
   ]
  },
  {
   "cell_type": "code",
   "execution_count": 66,
   "id": "33d3c3c2",
   "metadata": {},
   "outputs": [
    {
     "name": "stdout",
     "output_type": "stream",
     "text": [
      "CB: \n",
      " [[  8 -10  -3]\n",
      " [ 10  -8   0]]\n"
     ]
    }
   ],
   "source": [
    "# Find CB which meets the condtions of above function\n",
    "print('CB:', '\\n', add_mult_matrices(C, B, 'multiply'))"
   ]
  },
  {
   "cell_type": "markdown",
   "id": "5000c829",
   "metadata": {},
   "source": [
    "**Chap2. Question 2**"
   ]
  },
  {
   "cell_type": "code",
   "execution_count": 128,
   "id": "00a71b4a",
   "metadata": {},
   "outputs": [
    {
     "name": "stdout",
     "output_type": "stream",
     "text": [
      "A: \n",
      " [[1 2]\n",
      " [2 4]]\n",
      "\n",
      "B: \n",
      " [[2 1]\n",
      " [1 3]]\n",
      "\n",
      "C: \n",
      " [[4 3]\n",
      " [0 2]]\n",
      "\n",
      "AB: \n",
      " [[ 4  7]\n",
      " [ 8 14]]\n",
      "\n",
      "AC: \n",
      " [[ 4  7]\n",
      " [ 8 14]]\n",
      "\n",
      "True\n",
      "\n",
      "False\n"
     ]
    }
   ],
   "source": [
    "# Writing A, B and C matrices in np.array format\n",
    "A = np.array([[1, 2], [2, 4]])\n",
    "B = np.array([[2, 1], [1, 3]])\n",
    "C = np.array([[4, 3], [0, 2]])\n",
    "\n",
    "print('A:', '\\n', A)\n",
    "print()\n",
    "\n",
    "print('B:', '\\n', B)\n",
    "print()\n",
    "\n",
    "print('C:', '\\n', C)\n",
    "\n",
    "AB = add_mult_matrices(A, B, 'multiply')\n",
    "AC = add_mult_matrices(A, C, 'multiply')\n",
    "print()\n",
    "\n",
    "print('AB:', '\\n', AB)\n",
    "print()\n",
    "\n",
    "print('AC:', '\\n', AC)\n",
    "print()\n",
    "\n",
    "\n",
    "print((AB == AC).all())  # AB=AC but B is not equal to C.\n",
    "print()\n",
    "\n",
    "print((B == C).all()) "
   ]
  },
  {
   "cell_type": "code",
   "execution_count": 129,
   "id": "8712f4cd",
   "metadata": {},
   "outputs": [
    {
     "name": "stdout",
     "output_type": "stream",
     "text": [
      "AB: \n",
      " [[ 4  7]\n",
      " [ 8 14]]\n",
      "\n",
      "AC: \n",
      " [[ 4  7]\n",
      " [ 8 14]]\n"
     ]
    }
   ],
   "source": [
    "# To find AB:\n",
    "print('AB:', '\\n', add_mult_matrices(A, B, 'multiply'))\n",
    "print()\n",
    "\n",
    "# To find AC:\n",
    "print('AC:', '\\n', add_mult_matrices(A, C, 'multiply'))"
   ]
  },
  {
   "cell_type": "markdown",
   "id": "a7f5b140",
   "metadata": {},
   "source": [
    "**Chap2. Question 3**"
   ]
  },
  {
   "cell_type": "code",
   "execution_count": 70,
   "id": "b4bc52f7",
   "metadata": {},
   "outputs": [
    {
     "name": "stdout",
     "output_type": "stream",
     "text": [
      "A: \n",
      " [[1 1 1]\n",
      " [1 2 3]\n",
      " [1 3 4]]\n",
      "\n",
      "B: \n",
      " [[2 1]\n",
      " [1 3]]\n"
     ]
    }
   ],
   "source": [
    "A = np.array([[1, 1, 1], [1, 2, 3], [1, 3, 4]])\n",
    "D = np.array([[2, 0, 0], [0, 3, 0], [0, 0, 4]])\n",
    "\n",
    "print('A:', '\\n', (A))\n",
    "print()\n",
    "\n",
    "print('B:', '\\n', B)"
   ]
  },
  {
   "cell_type": "code",
   "execution_count": 71,
   "id": "260aeac8",
   "metadata": {},
   "outputs": [
    {
     "name": "stdout",
     "output_type": "stream",
     "text": [
      "AD: \n",
      " [[ 2  3  4]\n",
      " [ 2  6 12]\n",
      " [ 2  9 16]]\n",
      "\n",
      "DA:  \n",
      " [[ 2  2  2]\n",
      " [ 3  6  9]\n",
      " [ 4 12 16]]\n"
     ]
    }
   ],
   "source": [
    "# To find AD:\n",
    "print('AD:', '\\n', add_mult_matrices(A, D, 'multiply'))\n",
    "print()\n",
    "\n",
    "# To find DA:\n",
    "print('DA: ', '\\n', add_mult_matrices(D, A, 'multiply'))"
   ]
  },
  {
   "cell_type": "markdown",
   "id": "334ca623",
   "metadata": {},
   "source": [
    "**Quiz p.11, Question 2**"
   ]
  },
  {
   "cell_type": "code",
   "execution_count": 72,
   "id": "b031a786",
   "metadata": {},
   "outputs": [
    {
     "name": "stdout",
     "output_type": "stream",
     "text": [
      "M1: \n",
      " [[ 1 -1]\n",
      " [-1  1]]\n",
      "\n",
      "M2: \n",
      " [[-1  1]\n",
      " [ 1 -1]]\n"
     ]
    }
   ],
   "source": [
    "M1 = np.array([[1, -1], [-1, 1]])\n",
    "M2 = np.array([[-1, 1], [1, -1]])\n",
    "\n",
    "print('M1:', '\\n', M1)\n",
    "print()\n",
    "\n",
    "print('M2:', '\\n', M2)"
   ]
  },
  {
   "cell_type": "code",
   "execution_count": 53,
   "id": "59789c3e",
   "metadata": {},
   "outputs": [
    {
     "name": "stdout",
     "output_type": "stream",
     "text": [
      "M1M2:  \n",
      " [[-2  2]\n",
      " [ 2 -2]]\n"
     ]
    }
   ],
   "source": [
    "print('M1M2: ', '\\n', add_mult_matrices(M1, M2, 'multiply'))"
   ]
  },
  {
   "cell_type": "markdown",
   "id": "fbfb4124",
   "metadata": {},
   "source": [
    "**Chap 6. Question 1**"
   ]
  },
  {
   "cell_type": "code",
   "execution_count": 136,
   "id": "9c68d160",
   "metadata": {},
   "outputs": [
    {
     "name": "stdout",
     "output_type": "stream",
     "text": [
      "M1: \n",
      " [[5 6]\n",
      " [4 5]]\n",
      "\n",
      "Inverse of M1: \n",
      " [[ 5. -6.]\n",
      " [-4.  5.]]\n",
      "\n",
      "M1*Inverse of M1: \n",
      " [[ 1.00000000e+00  0.00000000e+00]\n",
      " [-3.55271368e-15  1.00000000e+00]]\n",
      "\n",
      "True\n"
     ]
    }
   ],
   "source": [
    "M1 = np.array([[5, 6], [4, 5]])\n",
    "print('M1:', '\\n', M1)\n",
    "print()\n",
    "\n",
    "# To find inverse matrix of M1\n",
    "M1_inv = np.linalg.inv(M1) # uses of np.linalg.inv to find out inverse matrix\n",
    "print('Inverse of M1:', '\\n', M1_inv)\n",
    "print()\n",
    "\n",
    "# Checking if M1 @ M1_inv is the identity matrix. Remember: that due to round-off error in the computer, we need to use np.allclose\n",
    "print('M1*Inverse of M1:', '\\n', M1 @ M1_inv)\n",
    "print()\n",
    "\n",
    "print(np.allclose(M1 @ M1_inv, np.eye(2)))"
   ]
  },
  {
   "cell_type": "code",
   "execution_count": 138,
   "id": "434ce74e",
   "metadata": {},
   "outputs": [
    {
     "name": "stdout",
     "output_type": "stream",
     "text": [
      "M2: \n",
      " [[6 4]\n",
      " [3 3]]\n",
      "\n",
      "Inverse of M2: \n",
      " [[ 0.5        -0.66666667]\n",
      " [-0.5         1.        ]]\n",
      "\n",
      "M2*Inverse of M2: \n",
      " [[1. 0.]\n",
      " [0. 1.]]\n",
      "\n",
      "True\n"
     ]
    }
   ],
   "source": [
    "M2 = np.array([[6, 4], [3, 3]])\n",
    "print('M2:', '\\n', M2)\n",
    "print()\n",
    "\n",
    "# To find inverse matrix of M2\n",
    "M2_inv = np.linalg.inv(M2)\n",
    "print('Inverse of M2:', '\\n', M2_inv)\n",
    "print()\n",
    "\n",
    "# Checking if M2 @ M2_inv is the identity matrix. Remember: that due to round-off error in the computer, we need to use np.allclose\n",
    "print('M2*Inverse of M2:', '\\n', M2 @ M2_inv)\n",
    "print()\n",
    "\n",
    "print(np.allclose(M2 @ M2_inv, np.eye(2)))"
   ]
  },
  {
   "cell_type": "markdown",
   "id": "574b6d18",
   "metadata": {},
   "source": [
    "**Quiz p.19, Question 3**"
   ]
  },
  {
   "cell_type": "code",
   "execution_count": 139,
   "id": "c4cc11eb",
   "metadata": {},
   "outputs": [
    {
     "name": "stdout",
     "output_type": "stream",
     "text": [
      "M: \n",
      " [[2 2]\n",
      " [1 2]]\n",
      "\n",
      "Inverse of M: \n",
      " [[ 1.  -1. ]\n",
      " [-0.5  1. ]]\n",
      "\n",
      "M*Inverse of M: \n",
      " [[1. 0.]\n",
      " [0. 1.]]\n",
      "\n",
      "True\n"
     ]
    }
   ],
   "source": [
    "M = np.array([[2, 2], [1, 2]])\n",
    "print('M:', '\\n', M)\n",
    "print()\n",
    "\n",
    "M_inv = np.linalg.inv(M)\n",
    "print('Inverse of M:', '\\n', M_inv)\n",
    "print()\n",
    "\n",
    "print('M*Inverse of M:', '\\n', M @ M_inv)\n",
    "print()\n",
    "\n",
    "# Checking if M1 @ M1_inv is the identity matrix\n",
    "print(np.allclose(M @ M_inv, np.eye(2)))"
   ]
  },
  {
   "cell_type": "markdown",
   "id": "5de93779",
   "metadata": {},
   "source": [
    "**Chap10. Question 1 a)**"
   ]
  },
  {
   "cell_type": "code",
   "execution_count": 143,
   "id": "e9a63544",
   "metadata": {},
   "outputs": [
    {
     "name": "stdout",
     "output_type": "stream",
     "text": [
      "A: \n",
      " [[ 3 -7 -2]\n",
      " [-3  5  1]\n",
      " [ 6 -4  0]]\n",
      "\n",
      "b: \n",
      " [-7  5  2]\n"
     ]
    }
   ],
   "source": [
    "A = np.array([[3, -7, -2], [-3, 5, 1], [6, -4, 0]])\n",
    "b = np.array([-7, 5, 2])\n",
    "\n",
    "print('A:', '\\n', A)\n",
    "print()\n",
    "\n",
    "print('b:', '\\n', b)"
   ]
  },
  {
   "cell_type": "code",
   "execution_count": 144,
   "id": "b3bc3f61",
   "metadata": {},
   "outputs": [
    {
     "name": "stdout",
     "output_type": "stream",
     "text": [
      "Solution of A and b: [ 3.  4. -6.]\n"
     ]
    }
   ],
   "source": [
    "# To find the solution to the system of equations:\n",
    "x = np.linalg.solve(A, b)\n",
    "print('Solution of A and b:', x)"
   ]
  },
  {
   "cell_type": "code",
   "execution_count": 146,
   "id": "ca20b519",
   "metadata": {},
   "outputs": [
    {
     "name": "stdout",
     "output_type": "stream",
     "text": [
      "A*x: [-7.  5.  2.]\n"
     ]
    }
   ],
   "source": [
    "# Double checking if Ax = b\n",
    "print('A*x:', A @ x)"
   ]
  },
  {
   "cell_type": "markdown",
   "id": "3f49e9e1",
   "metadata": {},
   "source": [
    "**Chap10. Question 1 b)**"
   ]
  },
  {
   "cell_type": "code",
   "execution_count": 84,
   "id": "6f6e72fb",
   "metadata": {},
   "outputs": [
    {
     "name": "stdout",
     "output_type": "stream",
     "text": [
      "A: \n",
      " [[ 1 -2  3]\n",
      " [-1  3 -1]\n",
      " [ 2 -5  5]]\n",
      "\n",
      "b: \n",
      " [ 1 -1  1]\n"
     ]
    }
   ],
   "source": [
    "A = np.array([[1, -2, 3], [-1, 3, -1], [2, -5, 5]])\n",
    "b = np.array([1, -1, 1])\n",
    "\n",
    "print('A:', '\\n', A)\n",
    "print()\n",
    "\n",
    "print('b:', '\\n', b)"
   ]
  },
  {
   "cell_type": "code",
   "execution_count": 147,
   "id": "585388d5",
   "metadata": {},
   "outputs": [
    {
     "name": "stdout",
     "output_type": "stream",
     "text": [
      "Solution of A and b: [ 3.  4. -6.]\n"
     ]
    }
   ],
   "source": [
    "# To find the solution to the system of equations:\n",
    "x = np.linalg.solve(A, b)\n",
    "print('Solution of A and b:', x)"
   ]
  },
  {
   "cell_type": "code",
   "execution_count": 148,
   "id": "97931c7a",
   "metadata": {},
   "outputs": [
    {
     "name": "stdout",
     "output_type": "stream",
     "text": [
      "A*x: [-7.  5.  2.]\n"
     ]
    }
   ],
   "source": [
    "# Double checking if Ax = b\n",
    "print('A*x:', A @ x)"
   ]
  },
  {
   "cell_type": "markdown",
   "id": "beb0a8af",
   "metadata": {},
   "source": [
    "**Chap 12. Question 1**"
   ]
  },
  {
   "cell_type": "code",
   "execution_count": 150,
   "id": "4fe15c46",
   "metadata": {},
   "outputs": [
    {
     "name": "stdout",
     "output_type": "stream",
     "text": [
      "M: \n",
      " [[ 3 -7 -2]\n",
      " [-3  5  1]\n",
      " [ 6 -4  0]]\n"
     ]
    }
   ],
   "source": [
    "M = np.array([[3, -7, -2], [-3, 5, 1], [6, -4, 0]])\n",
    "print('M:', '\\n', M)"
   ]
  },
  {
   "cell_type": "code",
   "execution_count": 151,
   "id": "992bd699",
   "metadata": {},
   "outputs": [
    {
     "name": "stdout",
     "output_type": "stream",
     "text": [
      "Inverse of M: \n",
      " [[ 0.66666667  1.33333333  0.5       ]\n",
      " [ 1.          2.          0.5       ]\n",
      " [-3.         -5.         -1.        ]]\n",
      "\n",
      "True\n"
     ]
    }
   ],
   "source": [
    "# To find inverse matrix of M\n",
    "M_inv = np.linalg.inv(M)\n",
    "print('Inverse of M:', '\\n', M_inv)\n",
    "print()\n",
    "\n",
    "# Checking if M1 @ M1_inv is the identity matrix\n",
    "print(np.allclose(M @ M_inv, np.eye(3)))"
   ]
  },
  {
   "cell_type": "markdown",
   "id": "6a4a524f",
   "metadata": {},
   "source": [
    "### Copies and Views\n",
    "Read the following link: https://numpy.org/doc/stable/user/basics.copies.html"
   ]
  },
  {
   "cell_type": "markdown",
   "id": "6cbbeaf7",
   "metadata": {},
   "source": [
    "**Basic indexing creates a view, How can you check if v1 and v2 is a view or copy? If you change the last element in v2 to 123, will the last element in v1 be changed? Why?**"
   ]
  },
  {
   "cell_type": "markdown",
   "id": "44c243c2",
   "metadata": {},
   "source": [
    "Answer: \n",
    "\n",
    "At first, we will find out \"View\" in return, afterwards \"Copy\" in return. If it is a \"View\" then it will return the same array, on the other hand, it is a \"Copy\" then it will return \"None\". \n",
    "\n",
    "If we change the last element in v2 then the last element in v1 will also be changed hence v2 is a \"View\" which means they share the same data buffer.\n",
    "\n",
    "We can see these in below three cells separately."
   ]
  },
  {
   "cell_type": "code",
   "execution_count": 93,
   "id": "5b9ef4df",
   "metadata": {},
   "outputs": [
    {
     "name": "stdout",
     "output_type": "stream",
     "text": [
      "v1: [0 1 2 3]\n",
      "\n",
      "v2: [2 3]\n"
     ]
    }
   ],
   "source": [
    "v1 = np.arange(4)\n",
    "v2 = v1[-2:]\n",
    "\n",
    "print('v1:', v1)\n",
    "print()\n",
    "\n",
    "print('v2:', v2)"
   ]
  },
  {
   "cell_type": "code",
   "execution_count": 152,
   "id": "d2440489",
   "metadata": {},
   "outputs": [
    {
     "name": "stdout",
     "output_type": "stream",
     "text": [
      "Return of Copy: None\n",
      "\n",
      "Return of View: [  0   1   2 123]\n"
     ]
    }
   ],
   "source": [
    "# Explanation: The base attribute of a \"Copy\" returns \"None\", on the other hand, \"View\" returns the original array\n",
    "print('Return of Copy:', v1.base)\n",
    "print()\n",
    "\n",
    "print('Return of View:', v2.base)"
   ]
  },
  {
   "cell_type": "code",
   "execution_count": 153,
   "id": "c8752807",
   "metadata": {},
   "outputs": [
    {
     "name": "stdout",
     "output_type": "stream",
     "text": [
      "Changed last element in v1: [1 2 3]\n",
      "\n",
      "Changed last element in v2: [  2 123]\n"
     ]
    }
   ],
   "source": [
    "# The last element in v2 then the last element in v1 will also be changed hence v2 is a \"View\" which means they share the same data buffer\n",
    "v2[-1] = 123\n",
    "print('Changed last element in v1:', v1)\n",
    "print()\n",
    "\n",
    "print('Changed last element in v2:', v2)"
   ]
  }
 ],
 "metadata": {
  "kernelspec": {
   "display_name": "Python 3 (ipykernel)",
   "language": "python",
   "name": "python3"
  },
  "language_info": {
   "codemirror_mode": {
    "name": "ipython",
    "version": 3
   },
   "file_extension": ".py",
   "mimetype": "text/x-python",
   "name": "python",
   "nbconvert_exporter": "python",
   "pygments_lexer": "ipython3",
   "version": "3.11.5"
  }
 },
 "nbformat": 4,
 "nbformat_minor": 5
}
